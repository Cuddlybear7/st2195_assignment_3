{
 "cells": [
  {
   "cell_type": "code",
   "execution_count": null,
   "id": "0190541c",
   "metadata": {},
   "outputs": [],
   "source": [
    "import os \n",
    "try:\n",
    "    os.remove('airline2.db')\n",
    "except OSError:\n",
    "    pass"
   ]
  },
  {
   "cell_type": "code",
   "execution_count": 31,
   "id": "2c3b84e7",
   "metadata": {},
   "outputs": [],
   "source": [
    "import sqlite3\n",
    "conn = sqlite3.connect('airline2.db')\n",
    "\n",
    "c = conn.cursor()\n",
    "import pandas as pd"
   ]
  },
  {
   "cell_type": "code",
   "execution_count": 32,
   "id": "6c9b13cc",
   "metadata": {},
   "outputs": [
    {
     "data": {
      "text/plain": [
       "<sqlite3.Cursor at 0x7f8556746730>"
      ]
     },
     "execution_count": 32,
     "metadata": {},
     "output_type": "execute_result"
    }
   ],
   "source": [
    "# sqlite_master is a built-in SQLite metadata table\n",
    "c.execute('''\n",
    "SELECT name \n",
    "FROM sqlite_master \n",
    "WHERE type='table'\n",
    "''')"
   ]
  },
  {
   "cell_type": "code",
   "execution_count": 33,
   "id": "2cb7971c",
   "metadata": {},
   "outputs": [
    {
     "data": {
      "text/plain": [
       "[('airports',), ('carriers',), ('planes',), ('ontime',)]"
      ]
     },
     "execution_count": 33,
     "metadata": {},
     "output_type": "execute_result"
    }
   ],
   "source": [
    "c.fetchall()"
   ]
  },
  {
   "cell_type": "code",
   "execution_count": null,
   "id": "b62e0a4b",
   "metadata": {},
   "outputs": [],
   "source": [
    "year2000 = pd.read_csv(\"2000.csv\", low_memory=False)\n",
    "year2001 = pd.read_csv(\"2001.csv\", low_memory=False)\n",
    "year2002 = pd.read_csv(\"2002.csv\", low_memory=False)\n",
    "year2003 = pd.read_csv(\"2003.csv\", low_memory=False)\n",
    "year2004 = pd.read_csv(\"2004.csv\", low_memory=False)\n",
    "year2005 = pd.read_csv(\"2005.csv\", low_memory=False)\n",
    "airports = pd.read_csv(\"airports.csv\", low_memory=False)\n",
    "carriers = pd.read_csv(\"carriers.csv\", low_memory=False)\n",
    "planes = pd.read_csv(\"plane-data.csv\", low_memory=False)"
   ]
  },
  {
   "cell_type": "code",
   "execution_count": null,
   "id": "dafc74d5",
   "metadata": {},
   "outputs": [],
   "source": [
    "year2000.to_sql('ontime_2000', con = conn, index = False)\n",
    "year2001.to_sql('ontime_2001', con = conn, index = False) \n",
    "year2002.to_sql('ontime_2002', con = conn, index = False) \n",
    "year2003.to_sql('ontime_2003', con = conn, index = False) \n",
    "year2004.to_sql('ontime_2004', con = conn, index = False) \n",
    "year2005.to_sql('ontime_2005', con = conn, index = False)\n",
    "airports.to_sql('airports', con = conn, index = False)\n",
    "carriers.to_sql('carriers', con = conn, index = False)\n",
    "planes.to_sql('planes', con = conn, index = False)"
   ]
  },
  {
   "cell_type": "code",
   "execution_count": null,
   "id": "e5acd7c1",
   "metadata": {},
   "outputs": [],
   "source": [
    "#Create a new table \"ontime\" to store all 6 csv files\n",
    "\n",
    "c.execute('''CREATE TABLE ontime(Year INTEGER, Month INTEGER, DayofMonth INTEGER, DayofWeek INTEGER, DepTime TEXT, CRSDepTime INTEGER, ArrTime TEXT, CRSArrTime INTEGER, UniqueCarrier TEXT, FlightNum INTEGER, TailNum TEXT, ActualElapsedTime TEXT, CRSElapsedTime INTEGER, AirTime TEXT, ArrDelay TEXT, DepDelay TEXT, Origin TEXT, Dest TEXT, Distance INTEGER, TaxiIn INTEGER, TaxiOut INTEGER, Cancelled INTEGER, CancellationCode TEXT, Diverted INTEGER, CarrierDelay TEXT, WeatherDelay TEXT, NASDelay TEXT, SecurityDelay TEXT, LateAircraftDelay TEXT)''')\n",
    "conn.commit()"
   ]
  },
  {
   "cell_type": "code",
   "execution_count": null,
   "id": "1fe4ca20",
   "metadata": {},
   "outputs": [],
   "source": [
    "c.execute('''\n",
    "SELECT TOP 0 *\n",
    "INTO ontime\n",
    "FROM ontime_2000\n",
    "''')"
   ]
  },
  {
   "cell_type": "code",
   "execution_count": null,
   "id": "8964ce50",
   "metadata": {},
   "outputs": [],
   "source": [
    "c.execute('''\n",
    "INSERT INTO ontime\n",
    "SELECT * FROM ontime_2000''')\n",
    "\n",
    "c.execute('''\n",
    "INSERT INTO ontime\n",
    "SELECT * FROM ontime_2001''')\n",
    "\n",
    "c.execute('''\n",
    "INSERT INTO ontime\n",
    "SELECT * FROM ontime_2002''')\n",
    "\n",
    "c.execute('''\n",
    "INSERT INTO ontime\n",
    "SELECT * FROM ontime_2003''')\n",
    "\n",
    "c.execute('''\n",
    "INSERT INTO ontime\n",
    "SELECT * FROM ontime_2004''')\n",
    "\n",
    "c.execute('''\n",
    "INSERT INTO ontime\n",
    "SELECT * FROM ontime_2005''')\n"
   ]
  },
  {
   "cell_type": "code",
   "execution_count": null,
   "id": "a304fa02",
   "metadata": {},
   "outputs": [],
   "source": [
    "c.execute('''DROP TABLE ontime_2000''')\n",
    "c.execute('''DROP TABLE ontime_2001''')\n",
    "c.execute('''DROP TABLE ontime_2002''')\n",
    "c.execute('''DROP TABLE ontime_2003''')\n",
    "c.execute('''DROP TABLE ontime_2004''')\n",
    "c.execute('''DROP TABLE ontime_2005''')"
   ]
  },
  {
   "cell_type": "code",
   "execution_count": 34,
   "id": "9d0b6915",
   "metadata": {},
   "outputs": [],
   "source": [
    "conn.close()"
   ]
  },
  {
   "cell_type": "code",
   "execution_count": null,
   "id": "e245bdfd",
   "metadata": {},
   "outputs": [],
   "source": [
    "#Q1 plane model with lowest associated avg departure delay, excluding cancelled and diverted flights\n",
    "#model 737-2Y5 avg delay 7.022\n",
    "q = c.execute('''\n",
    "SELECT model AS model, AVG(ontime.DepDelay) AS avg_delay\n",
    "FROM planes INNER JOIN ontime USING(tailnum)\n",
    "WHERE ontime.Cancelled = 0 AND ontime.Diverted = 0 AND ontime.DepDelay > 0\n",
    "GROUP BY planes.model\n",
    "ORDER BY avg_delay\n",
    "''').fetchall()\n",
    "\n",
    "pd.DataFrame(q)"
   ]
  },
  {
   "cell_type": "code",
   "execution_count": null,
   "id": "eee95523",
   "metadata": {},
   "outputs": [],
   "source": [
    "#Q2 city with highest number of inbound flights, excluding cancelled flights\n",
    "#Chicago with 2388365 inbound flights\n",
    "q2 = c.execute('''\n",
    "SELECT airports.city AS city, COUNT(*) AS total\n",
    "FROM airports INNER JOIN ontime ON ontime.dest = airports.iata\n",
    "WHERE ontime.Cancelled = 0 \n",
    "GROUP BY airports.city\n",
    "ORDER BY total DESC\n",
    "''').fetchall()\n",
    "\n",
    "pd.DataFrame(q2)"
   ]
  },
  {
   "cell_type": "code",
   "execution_count": null,
   "id": "1441fa22",
   "metadata": {},
   "outputs": [],
   "source": [
    "#Q3 carrier with highest number of cancelled flights\n",
    "#Delta Air Lines Inc. with 107851 cancelled flights\n",
    "q3 = c.execute('''\n",
    "SELECT carriers.Description AS carrier, COUNT(*) AS total\n",
    "FROM carriers INNER JOIN ontime ON ontime.UniqueCarrier = carriers.Code\n",
    "WHERE ontime.Cancelled = 1\n",
    "GROUP BY carriers.Description\n",
    "ORDER BY total DESC\n",
    "''').fetchall()\n",
    "\n",
    "pd.DataFrame(q3)"
   ]
  },
  {
   "cell_type": "code",
   "execution_count": null,
   "id": "6e9ea0a6",
   "metadata": {},
   "outputs": [],
   "source": [
    "#Q4 carrier with the highest number of cancelled flights, relative to their number of total flights\n",
    "q4 = c.execute('''\n",
    "SELECT q1.carrier AS carrier, (CAST(q1.numerator AS FLOAT)/ CAST(q2.denominator AS FLOAT)) AS ratio\n",
    "FROM (SELECT carriers.Description AS carrier, COUNT(*) AS numerator\n",
    "FROM carriers JOIN ontime ON ontime.UniqueCarrier = carriers.Code\n",
    "WHERE ontime.Cancelled = 1 \n",
    "GROUP BY carriers.Description\n",
    ") AS q1 JOIN\n",
    "(SELECT carriers.Description AS carrier, COUNT(*) AS denominator\n",
    "FROM carriers JOIN ontime ON ontime.UniqueCarrier = carriers.Code\n",
    "GROUP BY carriers.Description\n",
    ") AS q2 USING(carrier)\n",
    "ORDER BY ratio DESC\n",
    "''').fetchall()\n",
    "\n",
    "pd.DataFrame(q4)"
   ]
  },
  {
   "cell_type": "code",
   "execution_count": null,
   "id": "780a0c2a",
   "metadata": {},
   "outputs": [],
   "source": [
    "c"
   ]
  },
  {
   "cell_type": "code",
   "execution_count": null,
   "id": "70dfa420",
   "metadata": {},
   "outputs": [],
   "source": []
  }
 ],
 "metadata": {
  "kernelspec": {
   "display_name": "Python 3",
   "language": "python",
   "name": "python3"
  },
  "language_info": {
   "codemirror_mode": {
    "name": "ipython",
    "version": 3
   },
   "file_extension": ".py",
   "mimetype": "text/x-python",
   "name": "python",
   "nbconvert_exporter": "python",
   "pygments_lexer": "ipython3",
   "version": "3.8.8"
  }
 },
 "nbformat": 4,
 "nbformat_minor": 5
}
